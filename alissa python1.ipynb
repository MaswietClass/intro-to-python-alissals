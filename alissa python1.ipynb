{
 "cells": [
  {
   "cell_type": "markdown",
   "metadata": {},
   "source": [
    "# PROGRAM MENENTUKAN BILANGAN GANJIL/GENAP"
   ]
  },
  {
   "cell_type": "code",
   "execution_count": 13,
   "metadata": {},
   "outputs": [
    {
     "name": "stdout",
     "output_type": "stream",
     "text": [
      "Input sebuah bilangan bulat= 5\n",
      "Angka 5 adalah bilangan ganjil\n"
     ]
    }
   ],
   "source": [
    "a = int(input(\"Input sebuah bilangan bulat= \"))\n",
    "\n",
    "if a % 2 == 0 :\n",
    "    print(\"Angka\",a, \"adalah bilangan genap\")\n",
    "else :\n",
    "    print(\"Angka\",a, \"adalah bilangan ganjil\")"
   ]
  },
  {
   "cell_type": "code",
   "execution_count": null,
   "metadata": {},
   "outputs": [],
   "source": []
  }
 ],
 "metadata": {
  "kernelspec": {
   "display_name": "Python 3",
   "language": "python",
   "name": "python3"
  },
  "language_info": {
   "codemirror_mode": {
    "name": "ipython",
    "version": 3
   },
   "file_extension": ".py",
   "mimetype": "text/x-python",
   "name": "python",
   "nbconvert_exporter": "python",
   "pygments_lexer": "ipython3",
   "version": "3.7.1"
  }
 },
 "nbformat": 4,
 "nbformat_minor": 2
}
